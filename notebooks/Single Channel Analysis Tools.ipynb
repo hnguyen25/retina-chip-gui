{
 "cells": [
  {
   "cell_type": "markdown",
   "id": "c1fd2258-d755-4259-a098-7f6a953f392a",
   "metadata": {},
   "source": [
    "Take a full-BW scan. Compute mean of each channel. Plot distribution of means as a histogram with good axis labels so the user can look at it. Output the mean and SD of this distribution for convenience. Ask the user for two numbers: a “midpoint”, a “band”. Create a list of channels that do NOT have channel means inside the range (midpoint-band, midpoint+band). Spit out that list of channels in a format that lets Moon and Maddy disable just those channels."
   ]
  },
  {
   "cell_type": "code",
   "execution_count": 9,
   "id": "70d42565-e0dc-4c08-9b19-597f1a39edf8",
   "metadata": {},
   "outputs": [],
   "source": [
    "import ipywidgets as widgets"
   ]
  },
  {
   "cell_type": "code",
   "execution_count": 10,
   "id": "2a20c2b2-9a5c-4ddf-b705-b18199fc9f57",
   "metadata": {},
   "outputs": [],
   "source": [
    "list_of_means = None # TODO"
   ]
  },
  {
   "cell_type": "code",
   "execution_count": 11,
   "id": "550fdd6e-988b-4652-b810-41afa12a7392",
   "metadata": {},
   "outputs": [
    {
     "data": {
      "application/vnd.jupyter.widget-view+json": {
       "model_id": "8a0d6b2dad3949bda99838de798f7199",
       "version_major": 2,
       "version_minor": 0
      },
      "text/plain": [
       "BoundedIntText(value=7, description='Text:', max=10)"
      ]
     },
     "execution_count": 11,
     "metadata": {},
     "output_type": "execute_result"
    }
   ],
   "source": [
    "widgets.BoundedIntText(\n",
    "    value=7,\n",
    "    min=0,\n",
    "    max=10,\n",
    "    step=1,\n",
    "    description='Text:',\n",
    "    disabled=False\n",
    ")"
   ]
  },
  {
   "cell_type": "code",
   "execution_count": null,
   "id": "8258d239-9b7b-49c9-bb02-ae499c4e7f15",
   "metadata": {},
   "outputs": [],
   "source": []
  }
 ],
 "metadata": {
  "kernelspec": {
   "display_name": "huy-dc1",
   "language": "python",
   "name": "huy-dc1"
  },
  "language_info": {
   "codemirror_mode": {
    "name": "ipython",
    "version": 3
   },
   "file_extension": ".py",
   "mimetype": "text/x-python",
   "name": "python",
   "nbconvert_exporter": "python",
   "pygments_lexer": "ipython3",
   "version": "3.7.13"
  }
 },
 "nbformat": 4,
 "nbformat_minor": 5
}
