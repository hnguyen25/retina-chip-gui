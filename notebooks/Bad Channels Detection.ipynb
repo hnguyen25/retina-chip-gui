{
 "cells": [
  {
   "cell_type": "markdown",
   "id": "5ed3b0e1",
   "metadata": {},
   "source": [
    "Take a full-BW scan. Compute mean of each channel. Plot distribution of means as a histogram with good axis labels so the user can look at it. Output the mean and SD of this distribution for convenience. Ask the user for two numbers: a “midpoint”, a “band”. Create a list of channels that do NOT have channel means inside the range (midpoint-band, midpoint+band). Spit out that list of channels in a format that lets Moon and Maddy disable just those channels."
   ]
  },
  {
   "cell_type": "markdown",
   "id": "e235bf42",
   "metadata": {},
   "source": [
    "## Preparatory code (run first)"
   ]
  },
  {
   "cell_type": "code",
   "execution_count": 45,
   "id": "ed92e8e0",
   "metadata": {},
   "outputs": [],
   "source": [
    "import matplotlib.pyplot as plt\n",
    "import numpy as np"
   ]
  },
  {
   "cell_type": "code",
   "execution_count": 18,
   "id": "e17971a9",
   "metadata": {},
   "outputs": [],
   "source": [
    "# helper code to pull list of means from data\n"
   ]
  },
  {
   "cell_type": "markdown",
   "id": "21dc7d9f",
   "metadata": {},
   "source": [
    "## Analysis"
   ]
  },
  {
   "cell_type": "code",
   "execution_count": 54,
   "id": "959a4da3",
   "metadata": {},
   "outputs": [],
   "source": [
    "test = [1, 2, 1.5, 3, 0.4, 0.6, 1.2, 1.3, 1.15, 0.98, 5, 0.1]\n",
    "ch_idx = [0,1,2,3,4,5,6,7,8,9,10,11]"
   ]
  },
  {
   "cell_type": "code",
   "execution_count": 60,
   "id": "d2fe0fc2",
   "metadata": {},
   "outputs": [
    {
     "name": "stdout",
     "output_type": "stream",
     "text": [
      "Channel mean:  1.51917\n",
      "Channel std:  1.27471\n"
     ]
    },
    {
     "data": {
      "image/png": "[encoded data removed]",
      "text/plain": [
       "<Figure size 720x432 with 1 Axes>"
      ]
     },
     "metadata": {
      "needs_background": "light"
     },
     "output_type": "display_data"
    }
   ],
   "source": [
    "mean = np.mean(test)\n",
    "std = np.std(test)\n",
    "print(\"Channel mean: \", np.round(mean, 5))\n",
    "print(\"Channel std: \", np.round(std, 5))\n",
    "\n",
    "plt.figure(figsize=(10,6))\n",
    "plt.hist(test, \n",
    "             #bins=15, \n",
    "             #range=(0,6)\n",
    "        )\n",
    "plt.show()"
   ]
  },
  {
   "cell_type": "code",
   "execution_count": 61,
   "id": "dc0ef2a3",
   "metadata": {},
   "outputs": [
    {
     "name": "stdout",
     "output_type": "stream",
     "text": [
      "---> Bad Channels: <---\n",
      " [1, 3, 4, 10, 11] \n",
      "\n",
      "Sanity check - means out of range:\n",
      " [2, 3, 0.4, 5, 0.1]\n"
     ]
    }
   ],
   "source": [
    "####################\n",
    "midpoint = 1\n",
    "band = 0.5\n",
    "####################\n",
    "bad_channels = []\n",
    "bad_channel_means = []\n",
    "for i in range(len(test)):\n",
    "    if (test[i] < midpoint - band) or (test[i] > midpoint + band):\n",
    "        bad_channels.append(ch_idx[i])\n",
    "        bad_channel_means.append(test[i])\n",
    "print(\"---> Bad Channels: <---\\n\", bad_channels, \"\\n\")\n",
    "print(\"Sanity check - means out of range:\\n\", bad_channel_means)"
   ]
  }
 ],
 "metadata": {
  "kernelspec": {
   "display_name": "huy-dc1",
   "language": "python",
   "name": "huy-dc1"
  },
  "language_info": {
   "codemirror_mode": {
    "name": "ipython",
    "version": 3
   },
   "file_extension": ".py",
   "mimetype": "text/x-python",
   "name": "python",
   "nbconvert_exporter": "python",
   "pygments_lexer": "ipython3",
   "version": "3.7.13"
  }
 },
 "nbformat": 4,
 "nbformat_minor": 5
}
