# RUN BEFORE ALL NOTEBOOKS
# load python helper libraries
from src.analysis.analysis_helpers import *
from src.data.data_loading import *
from src.data.preprocessing import *
from src.gui.gui_layout import *
from src.gui.gui_interactive import *
from src.viz.viz_helpers import *


# load libraries|
from PyQt5 import QtWidgets
from pyqtgraph import PlotWidget, plot
import pyqtgraph as pg
from PyQt5.QtWidgets import QApplication, QDialog
from PyQt5.QtCore import QCoreApplication
import sys # We need sys so that we can pass argv to QApplication
import os

class MainWindow(QtWidgets.QMainWindow):

    def __init__(self, *args, **kwargs):
        super(MainWindow, self).__init__(*args, **kwargs)

        self.graphWidget = pg.PlotWidget()
        self.setCentralWidget(self.graphWidget)

        hour = [1,2,3,4,5,6,7,8,9,10]
        temperature = [30,32,34,32,33,31,29,32,35,45]

        # plot data: x, y values
        self.graphWidget.plot(hour, temperature)

def main():
    app = QCoreApplication.instance()
    if app is None:
        app = QtWidgets.QApplication(sys.argv)
    main = MainWindow()
    main.show()
    sys.exit(exec_())

if __name__ == '__main__':
    main()


from PyQt5.QtWidgets import QApplication, QDialog
from PyQt5.QtCore import QCoreApplication
import sys

#app = QApplication(sys.argv)
app = QCoreApplication.instance()
if app is None:
    app = QApplication(sys.argv)
